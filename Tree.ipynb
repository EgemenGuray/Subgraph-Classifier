{
 "cells": [
  {
   "cell_type": "code",
   "execution_count": null,
   "metadata": {},
   "outputs": [],
   "source": [
    "\n",
    "        r = self.get_root()\n",
    "        if r.val == None:\n",
    "            print(ll[0], 'created')\n",
    "            r = Nodes(ll[0])\n",
    "            self.set_root(r)\n",
    "        elif r.val != ll[0]:\n",
    "            print('hataliyim')\n",
    "            del r\n",
    "            r = Nodes(ll[0])\n",
    "            self.set_root(r)\n",
    "        print('will add', ll[1:])\n",
    "        r.addPath(ll[1:])\n",
    "        print(r.childs)\n",
    "        self.set_root(r)"
   ]
  },
  {
   "cell_type": "code",
   "execution_count": 20,
   "metadata": {},
   "outputs": [],
   "source": [
    "class Tree:\n",
    "    def __init__(self,data=None):\n",
    "        self.root = data\n",
    "    def pr(self):\n",
    "        self.root.pr()\n",
    "    def __repr__(self):\n",
    "        return self.root.__repr__()\n",
    "        \n",
    "    def set_root(self, data):\n",
    "        self.root = data\n",
    "    \n",
    "    def get_root(self):\n",
    "        return self.root\n",
    "    \n",
    "    def addPath(self,ll):\n",
    "        if not ll == []:\n",
    "            if self.root.val != ll[0]:\n",
    "                print('FARKLIII', self.root.val, ll[0])\n",
    "                r = self.root\n",
    "                self.root = None\n",
    "                del r\n",
    "                self.root = Nodes(ll[0],[])\n",
    "                print(ll[0], 'created')\n",
    "            print('will add', ll[1:])\n",
    "            print('->>>Before: ',self.root.childs)\n",
    "            self.root.addPath(ll[1:])\n",
    "            print('->>>After: ',self.root.childs)\n",
    "                \n",
    "        \n",
    "        \n",
    "        \n",
    "class Nodes:\n",
    "    def __init__(self,val = None, childs = []):\n",
    "        self.val = val\n",
    "        self.childs = childs\n",
    "        \n",
    "    def pr(self):\n",
    "        print('my value:',self.val)\n",
    "        print('')\n",
    "        #print('my childs:', self.childs)\n",
    "        for i in range(len(self.childs)):\n",
    "            self.childs[i].pr()\n",
    "            \n",
    "    def get(self):\n",
    "        return self.val\n",
    "            \n",
    "     # prints data\n",
    "    def __repr__(self):\n",
    "        \n",
    "        #for i in self.childs:\n",
    "            #print(i)\n",
    "        return str(self.val)\n",
    "    \n",
    "   \n",
    "            \n",
    "    # returns the index of given data in childs else -1\n",
    "    def isInChild(self, x):\n",
    "        \n",
    "        for i in range(len(self.childs)):\n",
    "            if self.childs[i].val == x:\n",
    "                \n",
    "                return i\n",
    "               \n",
    "        return -1\n",
    "            \n",
    "    # if x data is not in childs adds it to the child        \n",
    "    def addToChilds(self, x):\n",
    "        print('addtochild called on', self.val, self.childs)\n",
    "        index = self.isInChild(x)\n",
    "        print(x, 'exist @', index)\n",
    "        if index == -1:\n",
    "            print(x, 'added to child')\n",
    "            nodex = Nodes(x,[])\n",
    "            self.childs.append(nodex)\n",
    "        \n",
    "    # gets a path as a list adds to the Tree    \n",
    "    def addPath(self, path):\n",
    "        print('##addpath called on', self.val, self.childs)\n",
    "        if len(path) == 0:\n",
    "            return\n",
    "        else:\n",
    "            self.addToChilds(path[0])\n",
    "            index = self.isInChild(path[0])\n",
    "            print('##confirm index added @', index, self.val, self.childs)\n",
    "            dummy = self.childs[index]\n",
    "            print(dummy.get())\n",
    "            print('##calling addpath', path[1:], 'on', dummy)\n",
    "            dummy.addPath(path[1:])\n",
    "            return"
   ]
  },
  {
   "cell_type": "code",
   "execution_count": 21,
   "metadata": {},
   "outputs": [],
   "source": [
    "def lltoTree(t, path):\n",
    "    if path == None:\n",
    "        return t\n",
    "    else:\n",
    "        for i in range(len(path)):\n",
    "            t.addPath(path[i])\n",
    "            break\n",
    "    return t"
   ]
  },
  {
   "cell_type": "code",
   "execution_count": 12,
   "metadata": {},
   "outputs": [],
   "source": [
    "test = Nodes(None,[])"
   ]
  },
  {
   "cell_type": "code",
   "execution_count": 13,
   "metadata": {},
   "outputs": [
    {
     "name": "stdout",
     "output_type": "stream",
     "text": [
      "##addpath called on None []\n",
      "addtochild called on None []\n",
      "h exist @ -1\n",
      "h added to child\n",
      "##confirm index added @ 0 None [h]\n",
      "h\n",
      "##calling addpath ['e', 'l', 'l', 'o'] on h\n",
      "##addpath called on h []\n",
      "addtochild called on h []\n",
      "e exist @ -1\n",
      "e added to child\n",
      "##confirm index added @ 0 h [e]\n",
      "e\n",
      "##calling addpath ['l', 'l', 'o'] on e\n",
      "##addpath called on e []\n",
      "addtochild called on e []\n",
      "l exist @ -1\n",
      "l added to child\n",
      "##confirm index added @ 0 e [l]\n",
      "l\n",
      "##calling addpath ['l', 'o'] on l\n",
      "##addpath called on l []\n",
      "addtochild called on l []\n",
      "l exist @ -1\n",
      "l added to child\n",
      "##confirm index added @ 0 l [l]\n",
      "l\n",
      "##calling addpath ['o'] on l\n",
      "##addpath called on l []\n",
      "addtochild called on l []\n",
      "o exist @ -1\n",
      "o added to child\n",
      "##confirm index added @ 0 l [o]\n",
      "o\n",
      "##calling addpath [] on o\n",
      "##addpath called on o []\n"
     ]
    }
   ],
   "source": [
    "test.addPath(['h','e','l','l','o'])"
   ]
  },
  {
   "cell_type": "code",
   "execution_count": 14,
   "metadata": {},
   "outputs": [
    {
     "name": "stdout",
     "output_type": "stream",
     "text": [
      "##addpath called on None [h]\n",
      "addtochild called on None [h]\n",
      "h exist @ 0\n",
      "##confirm index added @ 0 None [h]\n",
      "h\n",
      "##calling addpath ['a', 'p', 's', 'u'] on h\n",
      "##addpath called on h [e]\n",
      "addtochild called on h [e]\n",
      "a exist @ -1\n",
      "a added to child\n",
      "##confirm index added @ 1 h [e, a]\n",
      "a\n",
      "##calling addpath ['p', 's', 'u'] on a\n",
      "##addpath called on a []\n",
      "addtochild called on a []\n",
      "p exist @ -1\n",
      "p added to child\n",
      "##confirm index added @ 0 a [p]\n",
      "p\n",
      "##calling addpath ['s', 'u'] on p\n",
      "##addpath called on p []\n",
      "addtochild called on p []\n",
      "s exist @ -1\n",
      "s added to child\n",
      "##confirm index added @ 0 p [s]\n",
      "s\n",
      "##calling addpath ['u'] on s\n",
      "##addpath called on s []\n",
      "addtochild called on s []\n",
      "u exist @ -1\n",
      "u added to child\n",
      "##confirm index added @ 0 s [u]\n",
      "u\n",
      "##calling addpath [] on u\n",
      "##addpath called on u []\n"
     ]
    }
   ],
   "source": [
    "test.addPath(['h','a','p','s','u'])"
   ]
  },
  {
   "cell_type": "code",
   "execution_count": 15,
   "metadata": {},
   "outputs": [],
   "source": [
    "newtest = Nodes(None,[])"
   ]
  },
  {
   "cell_type": "code",
   "execution_count": 16,
   "metadata": {},
   "outputs": [
    {
     "name": "stdout",
     "output_type": "stream",
     "text": [
      "##addpath called on None []\n",
      "addtochild called on None []\n",
      "h exist @ -1\n",
      "h added to child\n",
      "##confirm index added @ 0 None [h]\n",
      "h\n",
      "##calling addpath ['a', 'p', 's', 'u'] on h\n",
      "##addpath called on h []\n",
      "addtochild called on h []\n",
      "a exist @ -1\n",
      "a added to child\n",
      "##confirm index added @ 0 h [a]\n",
      "a\n",
      "##calling addpath ['p', 's', 'u'] on a\n",
      "##addpath called on a []\n",
      "addtochild called on a []\n",
      "p exist @ -1\n",
      "p added to child\n",
      "##confirm index added @ 0 a [p]\n",
      "p\n",
      "##calling addpath ['s', 'u'] on p\n",
      "##addpath called on p []\n",
      "addtochild called on p []\n",
      "s exist @ -1\n",
      "s added to child\n",
      "##confirm index added @ 0 p [s]\n",
      "s\n",
      "##calling addpath ['u'] on s\n",
      "##addpath called on s []\n",
      "addtochild called on s []\n",
      "u exist @ -1\n",
      "u added to child\n",
      "##confirm index added @ 0 s [u]\n",
      "u\n",
      "##calling addpath [] on u\n",
      "##addpath called on u []\n"
     ]
    }
   ],
   "source": [
    "newtest.addPath(['h','a','p','s','u'])"
   ]
  },
  {
   "cell_type": "code",
   "execution_count": 19,
   "metadata": {},
   "outputs": [
    {
     "name": "stdout",
     "output_type": "stream",
     "text": [
      "my value: None\n",
      "\n",
      "my value: h\n",
      "\n",
      "my value: a\n",
      "\n",
      "my value: p\n",
      "\n",
      "my value: s\n",
      "\n",
      "my value: u\n",
      "\n"
     ]
    }
   ],
   "source": [
    "newtest.pr()"
   ]
  },
  {
   "cell_type": "code",
   "execution_count": null,
   "metadata": {},
   "outputs": [],
   "source": []
  }
 ],
 "metadata": {
  "kernelspec": {
   "display_name": "Python 3",
   "language": "python",
   "name": "python3"
  },
  "language_info": {
   "codemirror_mode": {
    "name": "ipython",
    "version": 3
   },
   "file_extension": ".py",
   "mimetype": "text/x-python",
   "name": "python",
   "nbconvert_exporter": "python",
   "pygments_lexer": "ipython3",
   "version": "3.6.8"
  }
 },
 "nbformat": 4,
 "nbformat_minor": 2
}
